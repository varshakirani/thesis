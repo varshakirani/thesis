{
 "cells": [
  {
   "cell_type": "markdown",
   "metadata": {},
   "source": [
    "# Installing and Importing packages for anallysis"
   ]
  },
  {
   "cell_type": "code",
   "execution_count": 254,
   "metadata": {
    "collapsed": true
   },
   "outputs": [],
   "source": [
    "#uncomment the lines to install particular packages in your notebook\n",
    "\n",
    "#!conda install numpy --yes\n",
    "#!conda install scipy --yes\n",
    "#!conda install scikit-learn --yes\n",
    "#!conda install matplotlib --yes\n",
    "#!conda install seaborn --yes"
   ]
  },
  {
   "cell_type": "code",
   "execution_count": 289,
   "metadata": {},
   "outputs": [],
   "source": [
    "#Misc\n",
    "import scipy.io as sio\n",
    "import os #to access files from the directories\n",
    "import math\n",
    "import time #to check total time took for running the script or function\n",
    "\n",
    "#Visualization\n",
    "import matplotlib.pyplot as plt\n",
    "\n",
    "#Analysis\n",
    "import pandas as pd\n",
    "import numpy as np\n",
    "from sklearn import svm\n",
    "from sklearn.model_selection import cross_val_score\n",
    "from sklearn.model_selection import permutation_test_score\n",
    "from sklearn.model_selection import StratifiedKFold\n",
    "from sklearn.utils import shuffle\n",
    "from sklearn.naive_bayes import GaussianNB\n",
    "from sklearn import tree\n",
    "\n",
    "\n"
   ]
  },
  {
   "cell_type": "markdown",
   "metadata": {},
   "source": [
    "## Data extraction\n",
    "Reading only Faces mat files which doesnt end with 389.mat as I still do not know what it represents. Extracting means for each sample along with its label for all the brain areas. Not sure how to store the data, check with pandas **most probably pandas dataframe**"
   ]
  },
  {
   "cell_type": "code",
   "execution_count": 256,
   "metadata": {},
   "outputs": [
    {
     "name": "stdout",
     "output_type": "stream",
     "text": [
      "259\n",
      "259\n",
      "259\n",
      "259\n",
      "259\n"
     ]
    }
   ],
   "source": [
    "dataFolder =  \"../Data/\"\n",
    "columns = [\"means\",\"label\"]\n",
    "#df = pd.DataFrame({'A':1,'B':2}, index = None)\n",
    "data_list = []\n",
    "for matFile in os.listdir(dataFolder):\n",
    "    if matFile.startswith(\"Faces\") and not matFile.endswith(\"389.mat\"):\n",
    "        data = sio.loadmat(dataFolder + matFile)\n",
    "        for i in range (len(data[\"means\"])):\n",
    "        #data_list.append(list(zip(data[\"means\"],data[\"label\"][0]))) # Check this how to do it\n",
    "            d = data[\"means\"][i],data[\"label\"][0][i]\n",
    "            data_list.append(d)\n",
    "        print(len(data[\"means\"]))\n",
    "df = pd.DataFrame(data_list, columns = columns)\n",
    "RoiNames = (data[\"RoiName\"][:,0])\n",
    "colRoi = []\n",
    "for roi in RoiNames:\n",
    "    colRoi.append(roi[0])\n",
    "df[colRoi] = pd.DataFrame(df.means.values.tolist(), index = df.index)\n",
    "df.drop(['means'], axis=1, inplace=True)\n",
    "\n"
   ]
  },
  {
   "cell_type": "code",
   "execution_count": 294,
   "metadata": {},
   "outputs": [
    {
     "data": {
      "text/plain": [
       "{'__header__': b'MATLAB 5.0 MAT-file, Platform: PCWIN64, Created on: Thu Jun 14 10:01:17 2018',\n",
       " '__version__': '1.0',\n",
       " '__globals__': [],\n",
       " 'RoiName': array([[array(['Precentral_L'], dtype='<U12')],\n",
       "        [array(['Precentral_R'], dtype='<U12')],\n",
       "        [array(['Frontal_Sup_L'], dtype='<U13')],\n",
       "        [array(['Frontal_Sup_R'], dtype='<U13')],\n",
       "        [array(['Frontal_Sup_Orb_L'], dtype='<U17')],\n",
       "        [array(['Frontal_Sup_Orb_R'], dtype='<U17')],\n",
       "        [array(['Frontal_Mid_L'], dtype='<U13')],\n",
       "        [array(['Frontal_Mid_R'], dtype='<U13')],\n",
       "        [array(['Frontal_Mid_Orb_L'], dtype='<U17')],\n",
       "        [array(['Frontal_Mid_Orb_R'], dtype='<U17')],\n",
       "        [array(['Frontal_Inf_Oper_L'], dtype='<U18')],\n",
       "        [array(['Frontal_Inf_Oper_R'], dtype='<U18')],\n",
       "        [array(['Frontal_Inf_Tri_L'], dtype='<U17')],\n",
       "        [array(['Frontal_Inf_Tri_R'], dtype='<U17')],\n",
       "        [array(['Frontal_Inf_Orb_L'], dtype='<U17')],\n",
       "        [array(['Frontal_Inf_Orb_R'], dtype='<U17')],\n",
       "        [array(['Rolandic_Oper_L'], dtype='<U15')],\n",
       "        [array(['Rolandic_Oper_R'], dtype='<U15')],\n",
       "        [array(['Supp_Motor_Area_L'], dtype='<U17')],\n",
       "        [array(['Supp_Motor_Area_R'], dtype='<U17')],\n",
       "        [array(['Olfactory_L'], dtype='<U11')],\n",
       "        [array(['Olfactory_R'], dtype='<U11')],\n",
       "        [array(['Frontal_Sup_Medial_L'], dtype='<U20')],\n",
       "        [array(['Frontal_Sup_Medial_R'], dtype='<U20')],\n",
       "        [array(['Frontal_Med_Orb_L'], dtype='<U17')],\n",
       "        [array(['Frontal_Med_Orb_R'], dtype='<U17')],\n",
       "        [array(['Rectus_L'], dtype='<U8')],\n",
       "        [array(['Rectus_R'], dtype='<U8')],\n",
       "        [array(['Insula_L'], dtype='<U8')],\n",
       "        [array(['Insula_R'], dtype='<U8')],\n",
       "        [array(['Cingulum_Ant_L'], dtype='<U14')],\n",
       "        [array(['Cingulum_Ant_R'], dtype='<U14')],\n",
       "        [array(['Cingulum_Mid_L'], dtype='<U14')],\n",
       "        [array(['Cingulum_Mid_R'], dtype='<U14')],\n",
       "        [array(['Cingulum_Post_L'], dtype='<U15')],\n",
       "        [array(['Cingulum_Post_R'], dtype='<U15')],\n",
       "        [array(['Hippocampus_L'], dtype='<U13')],\n",
       "        [array(['Hippocampus_R'], dtype='<U13')],\n",
       "        [array(['ParaHippocampal_L'], dtype='<U17')],\n",
       "        [array(['ParaHippocampal_R'], dtype='<U17')],\n",
       "        [array(['Amygdala_L'], dtype='<U10')],\n",
       "        [array(['Amygdala_R'], dtype='<U10')],\n",
       "        [array(['Calcarine_L'], dtype='<U11')],\n",
       "        [array(['Calcarine_R'], dtype='<U11')],\n",
       "        [array(['Cuneus_L'], dtype='<U8')],\n",
       "        [array(['Cuneus_R'], dtype='<U8')],\n",
       "        [array(['Lingual_L'], dtype='<U9')],\n",
       "        [array(['Lingual_R'], dtype='<U9')],\n",
       "        [array(['Occipital_Sup_L'], dtype='<U15')],\n",
       "        [array(['Occipital_Sup_R'], dtype='<U15')],\n",
       "        [array(['Occipital_Mid_L'], dtype='<U15')],\n",
       "        [array(['Occipital_Mid_R'], dtype='<U15')],\n",
       "        [array(['Occipital_Inf_L'], dtype='<U15')],\n",
       "        [array(['Occipital_Inf_R'], dtype='<U15')],\n",
       "        [array(['Fusiform_L'], dtype='<U10')],\n",
       "        [array(['Fusiform_R'], dtype='<U10')],\n",
       "        [array(['Postcentral_L'], dtype='<U13')],\n",
       "        [array(['Postcentral_R'], dtype='<U13')],\n",
       "        [array(['Parietal_Sup_L'], dtype='<U14')],\n",
       "        [array(['Parietal_Sup_R'], dtype='<U14')],\n",
       "        [array(['Parietal_Inf_L'], dtype='<U14')],\n",
       "        [array(['Parietal_Inf_R'], dtype='<U14')],\n",
       "        [array(['SupraMarginal_L'], dtype='<U15')],\n",
       "        [array(['SupraMarginal_R'], dtype='<U15')],\n",
       "        [array(['Angular_L'], dtype='<U9')],\n",
       "        [array(['Angular_R'], dtype='<U9')],\n",
       "        [array(['Precuneus_L'], dtype='<U11')],\n",
       "        [array(['Precuneus_R'], dtype='<U11')],\n",
       "        [array(['Paracentral_Lobule_L'], dtype='<U20')],\n",
       "        [array(['Paracentral_Lobule_R'], dtype='<U20')],\n",
       "        [array(['Caudate_L'], dtype='<U9')],\n",
       "        [array(['Caudate_R'], dtype='<U9')],\n",
       "        [array(['Putamen_L'], dtype='<U9')],\n",
       "        [array(['Putamen_R'], dtype='<U9')],\n",
       "        [array(['Pallidum_L'], dtype='<U10')],\n",
       "        [array(['Pallidum_R'], dtype='<U10')],\n",
       "        [array(['Thalamus_L'], dtype='<U10')],\n",
       "        [array(['Thalamus_R'], dtype='<U10')],\n",
       "        [array(['Heschl_L'], dtype='<U8')],\n",
       "        [array(['Heschl_R'], dtype='<U8')],\n",
       "        [array(['Temporal_Sup_L'], dtype='<U14')],\n",
       "        [array(['Temporal_Sup_R'], dtype='<U14')],\n",
       "        [array(['Temporal_Pole_Sup_L'], dtype='<U19')],\n",
       "        [array(['Temporal_Pole_Sup_R'], dtype='<U19')],\n",
       "        [array(['Temporal_Mid_L'], dtype='<U14')],\n",
       "        [array(['Temporal_Mid_R'], dtype='<U14')],\n",
       "        [array(['Temporal_Pole_Mid_L'], dtype='<U19')],\n",
       "        [array(['Temporal_Pole_Mid_R'], dtype='<U19')],\n",
       "        [array(['Temporal_Inf_L'], dtype='<U14')],\n",
       "        [array(['Temporal_Inf_R'], dtype='<U14')],\n",
       "        [array(['Cerebelum_Crus1_L'], dtype='<U17')],\n",
       "        [array(['Cerebelum_Crus1_R'], dtype='<U17')],\n",
       "        [array(['Cerebelum_Crus2_L'], dtype='<U17')],\n",
       "        [array(['Cerebelum_Crus2_R'], dtype='<U17')],\n",
       "        [array(['Cerebelum_3_L'], dtype='<U13')],\n",
       "        [array(['Cerebelum_3_R'], dtype='<U13')],\n",
       "        [array(['Cerebelum_4_5_L'], dtype='<U15')],\n",
       "        [array(['Cerebelum_4_5_R'], dtype='<U15')],\n",
       "        [array(['Cerebelum_6_L'], dtype='<U13')],\n",
       "        [array(['Cerebelum_6_R'], dtype='<U13')],\n",
       "        [array(['Cerebelum_7b_L'], dtype='<U14')],\n",
       "        [array(['Cerebelum_7b_R'], dtype='<U14')],\n",
       "        [array(['Cerebelum_8_L'], dtype='<U13')],\n",
       "        [array(['Cerebelum_8_R'], dtype='<U13')],\n",
       "        [array(['Cerebelum_9_L'], dtype='<U13')],\n",
       "        [array(['Cerebelum_9_R'], dtype='<U13')],\n",
       "        [array(['Cerebelum_10_L'], dtype='<U14')],\n",
       "        [array(['Cerebelum_10_R'], dtype='<U14')],\n",
       "        [array(['Vermis_1_2'], dtype='<U10')],\n",
       "        [array(['Vermis_3'], dtype='<U8')],\n",
       "        [array(['Vermis_4_5'], dtype='<U10')],\n",
       "        [array(['Vermis_6'], dtype='<U8')],\n",
       "        [array(['Vermis_7'], dtype='<U8')],\n",
       "        [array(['Vermis_8'], dtype='<U8')],\n",
       "        [array(['Vermis_9'], dtype='<U8')],\n",
       "        [array(['Vermis_10'], dtype='<U9')]], dtype=object),\n",
       " 'groups': array([[array(['Bipolar'], dtype='<U7'),\n",
       "         array(['Schizophrenia'], dtype='<U13'),\n",
       "         array(['Controls'], dtype='<U8')]], dtype=object),\n",
       " 'label': array([[1, 1, 1, 1, 1, 1, 1, 1, 1, 1, 1, 1, 1, 1, 1, 1, 1, 1, 1, 1, 1, 1,\n",
       "         1, 1, 1, 1, 1, 1, 1, 1, 1, 1, 1, 1, 1, 1, 1, 1, 1, 1, 1, 1, 1, 1,\n",
       "         1, 1, 1, 1, 1, 1, 1, 1, 1, 1, 1, 1, 1, 1, 1, 1, 1, 1, 1, 1, 1, 1,\n",
       "         1, 1, 1, 1, 1, 1, 1, 1, 1, 1, 1, 1, 1, 1, 1, 1, 1, 1, 1, 1, 1, 1,\n",
       "         1, 2, 2, 2, 2, 2, 2, 2, 2, 2, 2, 2, 2, 2, 2, 2, 2, 2, 2, 2, 2, 2,\n",
       "         2, 2, 2, 2, 2, 2, 2, 2, 2, 2, 2, 2, 2, 2, 2, 2, 2, 2, 2, 2, 2, 2,\n",
       "         2, 2, 2, 2, 2, 2, 2, 2, 2, 2, 2, 2, 2, 2, 2, 2, 2, 2, 2, 2, 2, 2,\n",
       "         2, 2, 2, 2, 2, 2, 2, 2, 2, 2, 2, 2, 2, 2, 2, 2, 2, 2, 2, 2, 3, 3,\n",
       "         3, 3, 3, 3, 3, 3, 3, 3, 3, 3, 3, 3, 3, 3, 3, 3, 3, 3, 3, 3, 3, 3,\n",
       "         3, 3, 3, 3, 3, 3, 3, 3, 3, 3, 3, 3, 3, 3, 3, 3, 3, 3, 3, 3, 3, 3,\n",
       "         3, 3, 3, 3, 3, 3, 3, 3, 3, 3, 3, 3, 3, 3, 3, 3, 3, 3, 3, 3, 3, 3,\n",
       "         3, 3, 3, 3, 3, 3, 3, 3, 3, 3, 3, 3, 3, 3, 3, 3, 3]], dtype=uint8),\n",
       " 'maxs': array([[ 0.43575883,  0.93085963,  0.82712078, ...,  0.06536078,\n",
       "          0.05092336, -0.01216657],\n",
       "        [ 1.27237952,  1.31790638,  1.44228506, ...,  0.17586851,\n",
       "          0.21934733,  0.69362122],\n",
       "        [ 0.77365184,  1.11214483,  1.04761875, ...,  0.19472922,\n",
       "          0.31652957,  0.86048377],\n",
       "        ...,\n",
       "        [ 0.54403979,  1.2650578 ,  0.53852296, ...,  0.57931471,\n",
       "          0.50930297,  0.94103259],\n",
       "        [ 0.82937729,  0.94473606,  1.56129611, ...,  0.51432395,\n",
       "          0.2972483 ,  0.38511187],\n",
       "        [ 0.90757054,  1.0931052 ,  1.37255943, ...,  0.52590054,\n",
       "          0.3666504 ,  0.44380426]]),\n",
       " 'means': array([[-0.03974097,  0.03931215,  0.07020401, ..., -0.0570709 ,\n",
       "         -0.150656  , -0.44616822],\n",
       "        [ 0.22822764,  0.14951939,  0.2470074 , ...,  0.0300417 ,\n",
       "         -0.15926603, -0.57672824],\n",
       "        [-0.01866267,  0.04428641,  0.04861604, ..., -0.03699004,\n",
       "         -0.11946925, -0.43057154],\n",
       "        ...,\n",
       "        [ 0.02757779,  0.18966208,  0.03828818, ...,  0.20067834,\n",
       "          0.09928836,  0.11802278],\n",
       "        [ 0.19492152,  0.19050224,  0.1633069 , ...,  0.23810334,\n",
       "          0.11781906, -0.15636718],\n",
       "        [ 0.03937362,  0.11746333,  0.10439862, ...,  0.10514883,\n",
       "          0.05678274, -0.05982172]]),\n",
       " 'subject_cont': array([[ 188,  197,  199,  214,  220,  223,  236,  237,  238,  240,  251,\n",
       "          270,  286,  291,  294,  296,  298,  312,  314,  323,  326,  330,\n",
       "          333,  347,  348,  362,  369,  396,  397,  408,  413,  416,  424,\n",
       "          425,  426,  428,  430,  432,  442,  444,  450,  452,  455,  458,\n",
       "          462,  502,  541,  626,  631,  637,  661,  663,  696,  708,  750,\n",
       "          758,  759,  771,  796,  801,  810,  813,  814,  819,  822,  827,\n",
       "          838,  839,  840,  843,  846,  848,  856,  870,  875,  880,  886,\n",
       "          888,  889,  891,  893,  895,  905,  926,  951,  980, 1000, 1013,\n",
       "         1028,  189,  196,  198,  215,  217,  218,  221,  224,  225,  227,\n",
       "          230,  232,  234,  239,  243,  247,  249,  252,  254,  256,  257,\n",
       "          260,  275,  278,  285,  293,  300,  303,  306,  328,  370,  384,\n",
       "          389,  398,  400,  401,  405,  407,  409,  417,  457,  460,  627,\n",
       "          628,  635,  677,  687,  724,  739,  745,  748,  763,  766,  770,\n",
       "          781,  795,  799,  806,  823,  828,  829,  836,  842,  853,  862,\n",
       "          863,  876,  887,  890,  894,  904,  919,  921,  970,  993,  996,\n",
       "         1001, 1015, 1062, 1069, 1070, 1081, 1083, 1099, 1103,  262,  263,\n",
       "          266,  267,  269,  273,  276,  279,  280,  297,  319,  352,  383,\n",
       "          385,  439,  445,  446,  456,  459,  467,  468,  483,  600,  601,\n",
       "          630,  639,  640,  641,  646,  648,  649,  650,  651,  652,  654,\n",
       "          658,  659,  660,  662,  666,  668,  671,  675,  678,  680,  682,\n",
       "          684,  689,  695,  697,  701,  702,  703,  704,  705,  707,  711,\n",
       "          712,  713,  720,  721,  725,  728,  731,  732,  733,  736,  740,\n",
       "          751,  756,  757,  760,  762,  767,  769,  773,  803,  804,  818,\n",
       "          845,  850,  915,  924,  952,  974]], dtype=uint16)}"
      ]
     },
     "execution_count": 294,
     "metadata": {},
     "output_type": "execute_result"
    }
   ],
   "source": [
    "data"
   ]
  },
  {
   "cell_type": "code",
   "execution_count": 257,
   "metadata": {},
   "outputs": [
    {
     "data": {
      "text/html": [
       "<div>\n",
       "<style scoped>\n",
       "    .dataframe tbody tr th:only-of-type {\n",
       "        vertical-align: middle;\n",
       "    }\n",
       "\n",
       "    .dataframe tbody tr th {\n",
       "        vertical-align: top;\n",
       "    }\n",
       "\n",
       "    .dataframe thead th {\n",
       "        text-align: right;\n",
       "    }\n",
       "</style>\n",
       "<table border=\"1\" class=\"dataframe\">\n",
       "  <thead>\n",
       "    <tr style=\"text-align: right;\">\n",
       "      <th></th>\n",
       "      <th>label</th>\n",
       "      <th>Precentral_L</th>\n",
       "      <th>Precentral_R</th>\n",
       "      <th>Frontal_Sup_L</th>\n",
       "      <th>Frontal_Sup_R</th>\n",
       "      <th>Frontal_Sup_Orb_L</th>\n",
       "      <th>Frontal_Sup_Orb_R</th>\n",
       "      <th>Frontal_Mid_L</th>\n",
       "      <th>Frontal_Mid_R</th>\n",
       "      <th>Frontal_Mid_Orb_L</th>\n",
       "      <th>...</th>\n",
       "      <th>Cerebelum_10_L</th>\n",
       "      <th>Cerebelum_10_R</th>\n",
       "      <th>Vermis_1_2</th>\n",
       "      <th>Vermis_3</th>\n",
       "      <th>Vermis_4_5</th>\n",
       "      <th>Vermis_6</th>\n",
       "      <th>Vermis_7</th>\n",
       "      <th>Vermis_8</th>\n",
       "      <th>Vermis_9</th>\n",
       "      <th>Vermis_10</th>\n",
       "    </tr>\n",
       "  </thead>\n",
       "  <tbody>\n",
       "    <tr>\n",
       "      <th>0</th>\n",
       "      <td>1</td>\n",
       "      <td>-0.261413</td>\n",
       "      <td>-0.614965</td>\n",
       "      <td>-0.184144</td>\n",
       "      <td>-0.300383</td>\n",
       "      <td>0.553060</td>\n",
       "      <td>1.017965</td>\n",
       "      <td>-0.500928</td>\n",
       "      <td>-0.467032</td>\n",
       "      <td>-0.381950</td>\n",
       "      <td>...</td>\n",
       "      <td>-0.408351</td>\n",
       "      <td>-1.147118</td>\n",
       "      <td>-2.567101</td>\n",
       "      <td>-2.049433</td>\n",
       "      <td>-1.754564</td>\n",
       "      <td>-0.606973</td>\n",
       "      <td>-0.860277</td>\n",
       "      <td>-1.658649</td>\n",
       "      <td>0.168726</td>\n",
       "      <td>1.006011</td>\n",
       "    </tr>\n",
       "    <tr>\n",
       "      <th>1</th>\n",
       "      <td>1</td>\n",
       "      <td>-1.772200</td>\n",
       "      <td>-1.107698</td>\n",
       "      <td>-2.027145</td>\n",
       "      <td>-1.532820</td>\n",
       "      <td>-1.816469</td>\n",
       "      <td>-1.896132</td>\n",
       "      <td>-1.922224</td>\n",
       "      <td>-1.868986</td>\n",
       "      <td>-1.361453</td>\n",
       "      <td>...</td>\n",
       "      <td>-1.191585</td>\n",
       "      <td>-0.902862</td>\n",
       "      <td>-0.724082</td>\n",
       "      <td>-2.444238</td>\n",
       "      <td>-2.153109</td>\n",
       "      <td>-2.263649</td>\n",
       "      <td>-1.709332</td>\n",
       "      <td>-1.529465</td>\n",
       "      <td>0.164342</td>\n",
       "      <td>1.231301</td>\n",
       "    </tr>\n",
       "    <tr>\n",
       "      <th>2</th>\n",
       "      <td>1</td>\n",
       "      <td>0.254926</td>\n",
       "      <td>0.657548</td>\n",
       "      <td>-0.007574</td>\n",
       "      <td>0.143625</td>\n",
       "      <td>0.918835</td>\n",
       "      <td>0.996188</td>\n",
       "      <td>0.278585</td>\n",
       "      <td>0.280610</td>\n",
       "      <td>0.229048</td>\n",
       "      <td>...</td>\n",
       "      <td>0.883772</td>\n",
       "      <td>-0.184331</td>\n",
       "      <td>1.751579</td>\n",
       "      <td>-0.775282</td>\n",
       "      <td>0.687507</td>\n",
       "      <td>0.872222</td>\n",
       "      <td>0.658151</td>\n",
       "      <td>1.525205</td>\n",
       "      <td>-0.809088</td>\n",
       "      <td>-1.525038</td>\n",
       "    </tr>\n",
       "    <tr>\n",
       "      <th>3</th>\n",
       "      <td>1</td>\n",
       "      <td>-0.081679</td>\n",
       "      <td>-0.548619</td>\n",
       "      <td>-0.022460</td>\n",
       "      <td>-0.195238</td>\n",
       "      <td>-0.960115</td>\n",
       "      <td>-0.061683</td>\n",
       "      <td>-0.068000</td>\n",
       "      <td>-0.336466</td>\n",
       "      <td>-1.094314</td>\n",
       "      <td>...</td>\n",
       "      <td>-0.327843</td>\n",
       "      <td>-0.593949</td>\n",
       "      <td>-1.237898</td>\n",
       "      <td>-0.295273</td>\n",
       "      <td>-0.340851</td>\n",
       "      <td>-1.360729</td>\n",
       "      <td>-0.839502</td>\n",
       "      <td>-1.853460</td>\n",
       "      <td>-1.124791</td>\n",
       "      <td>-0.546470</td>\n",
       "    </tr>\n",
       "    <tr>\n",
       "      <th>4</th>\n",
       "      <td>1</td>\n",
       "      <td>0.810675</td>\n",
       "      <td>0.401977</td>\n",
       "      <td>0.553865</td>\n",
       "      <td>1.052446</td>\n",
       "      <td>0.947727</td>\n",
       "      <td>0.089213</td>\n",
       "      <td>0.934677</td>\n",
       "      <td>0.635166</td>\n",
       "      <td>1.384241</td>\n",
       "      <td>...</td>\n",
       "      <td>0.522811</td>\n",
       "      <td>0.434035</td>\n",
       "      <td>1.737797</td>\n",
       "      <td>-2.831582</td>\n",
       "      <td>-0.637470</td>\n",
       "      <td>0.195835</td>\n",
       "      <td>1.128861</td>\n",
       "      <td>1.374655</td>\n",
       "      <td>0.746394</td>\n",
       "      <td>-2.622827</td>\n",
       "    </tr>\n",
       "  </tbody>\n",
       "</table>\n",
       "<p>5 rows × 117 columns</p>\n",
       "</div>"
      ],
      "text/plain": [
       "   label  Precentral_L  Precentral_R  Frontal_Sup_L  Frontal_Sup_R  \\\n",
       "0      1     -0.261413     -0.614965      -0.184144      -0.300383   \n",
       "1      1     -1.772200     -1.107698      -2.027145      -1.532820   \n",
       "2      1      0.254926      0.657548      -0.007574       0.143625   \n",
       "3      1     -0.081679     -0.548619      -0.022460      -0.195238   \n",
       "4      1      0.810675      0.401977       0.553865       1.052446   \n",
       "\n",
       "   Frontal_Sup_Orb_L  Frontal_Sup_Orb_R  Frontal_Mid_L  Frontal_Mid_R  \\\n",
       "0           0.553060           1.017965      -0.500928      -0.467032   \n",
       "1          -1.816469          -1.896132      -1.922224      -1.868986   \n",
       "2           0.918835           0.996188       0.278585       0.280610   \n",
       "3          -0.960115          -0.061683      -0.068000      -0.336466   \n",
       "4           0.947727           0.089213       0.934677       0.635166   \n",
       "\n",
       "   Frontal_Mid_Orb_L    ...      Cerebelum_10_L  Cerebelum_10_R  Vermis_1_2  \\\n",
       "0          -0.381950    ...           -0.408351       -1.147118   -2.567101   \n",
       "1          -1.361453    ...           -1.191585       -0.902862   -0.724082   \n",
       "2           0.229048    ...            0.883772       -0.184331    1.751579   \n",
       "3          -1.094314    ...           -0.327843       -0.593949   -1.237898   \n",
       "4           1.384241    ...            0.522811        0.434035    1.737797   \n",
       "\n",
       "   Vermis_3  Vermis_4_5  Vermis_6  Vermis_7  Vermis_8  Vermis_9  Vermis_10  \n",
       "0 -2.049433   -1.754564 -0.606973 -0.860277 -1.658649  0.168726   1.006011  \n",
       "1 -2.444238   -2.153109 -2.263649 -1.709332 -1.529465  0.164342   1.231301  \n",
       "2 -0.775282    0.687507  0.872222  0.658151  1.525205 -0.809088  -1.525038  \n",
       "3 -0.295273   -0.340851 -1.360729 -0.839502 -1.853460 -1.124791  -0.546470  \n",
       "4 -2.831582   -0.637470  0.195835  1.128861  1.374655  0.746394  -2.622827  \n",
       "\n",
       "[5 rows x 117 columns]"
      ]
     },
     "execution_count": 257,
     "metadata": {},
     "output_type": "execute_result"
    }
   ],
   "source": [
    "df.head()"
   ]
  },
  {
   "cell_type": "markdown",
   "metadata": {},
   "source": [
    "## Training and Testing Data\n",
    "Shuffle the rows to avoid overfitting. Divide the the data into training and testing dataset (80% : 20%). Use training dataset for cross validation (5 or 10 folds)\n",
    "\n",
    "***Temporary fix for NaN is by replacing it by 0***"
   ]
  },
  {
   "cell_type": "code",
   "execution_count": 239,
   "metadata": {},
   "outputs": [],
   "source": [
    "np.all(np.isfinite(df)) # to check if there is any infinite number\n",
    "np.any(np.isnan(df)) #to check if there is any nan\n",
    "\n",
    "np.where(np.asanyarray(np.isnan(df))) #to find the index of nan\n",
    "df = df.fillna(0) #replace nan with 0\n",
    "\n",
    "df = shuffle(df)\n",
    "\n",
    "split_index = math.floor(0.8 * len(df))\n",
    "train = df[:split_index]\n",
    "test = df[split_index:]"
   ]
  },
  {
   "cell_type": "markdown",
   "metadata": {},
   "source": [
    "# SVM model fitting\n",
    "Using SVM from sklearn, fit the model and the cross validation accuracy without feature engineering."
   ]
  },
  {
   "cell_type": "code",
   "execution_count": 244,
   "metadata": {},
   "outputs": [
    {
     "name": "stdout",
     "output_type": "stream",
     "text": [
      "Accuracy: 0.50 (+/- 0.06)\n"
     ]
    }
   ],
   "source": [
    "#Training or model fitting\n",
    "features = train.loc[:, train.columns != \"label\"].values\n",
    "type_label = np.asarray(train.label)\n",
    "model = svm.SVC(kernel = 'rbf', C = 4, gamma = 2**-5)\n",
    "model.fit(features,type_label)\n",
    "scores = cross_val_score(model, features, type_label, cv=5)\n",
    "print(\"Accuracy: %0.2f (+/- %0.2f)\" % (scores.mean(), scores.std() * 2))\n",
    "#print(features.shape)"
   ]
  },
  {
   "cell_type": "code",
   "execution_count": 245,
   "metadata": {},
   "outputs": [
    {
     "name": "stdout",
     "output_type": "stream",
     "text": [
      "Test Accuracy is 0.4671814671814672.\n"
     ]
    }
   ],
   "source": [
    "#Testing\n",
    "test_data = test.loc[:,test.columns != \"label\"].values\n",
    "test_actual_results = np.asarray(test.label).astype(float)\n",
    "test_prediction = model.predict(test_data)\n",
    "total_test_samples = test_data.shape[0]\n",
    "total_correct_predictions = np.count_nonzero(test_actual_results == test_prediction)\n",
    "print(\"Test Accuracy is {}.\".format(total_correct_predictions / total_test_samples))"
   ]
  },
  {
   "cell_type": "markdown",
   "metadata": {},
   "source": [
    "## Permutation Test\n",
    "For checking the significance of SVM classifier, non-parameteric permutation test is applied with 100 permuations. The below code will do permutation on the labels for 100 times. Scoring is **accuracy** and cv is **StratifiedKFold**.  "
   ]
  },
  {
   "cell_type": "markdown",
   "metadata": {},
   "source": [
    "# SVM"
   ]
  },
  {
   "cell_type": "code",
   "execution_count": 283,
   "metadata": {},
   "outputs": [
    {
     "name": "stdout",
     "output_type": "stream",
     "text": [
      "Classification Score : 0.4951644370122631 \n",
      "p-value : 0.009900990099009901\n",
      "It took 79.06517601013184 seconds to do the permuatation\n"
     ]
    }
   ],
   "source": [
    "start = time.time()\n",
    "model = svm.SVC(kernel = 'rbf', C = 4, gamma = 2**-5)\n",
    "cv = StratifiedKFold(5)\n",
    "score, permutation_scores, pvalue = permutation_test_score(\n",
    "    model, features, type_label, scoring=\"accuracy\", cv = cv, n_permutations = 100, n_jobs = 1)\n",
    "print(\"Classification Score : %s \\np-value : %s\" %(score,pvalue))\n",
    "print(\"It took %s seconds to do the permutation test\" %(time.time()-start))"
   ]
  },
  {
   "cell_type": "code",
   "execution_count": 284,
   "metadata": {},
   "outputs": [
    {
     "data": {
      "text/plain": [
       "(0.0, 13.65)"
      ]
     },
     "execution_count": 284,
     "metadata": {},
     "output_type": "execute_result"
    },
    {
     "data": {
      "image/png": "[encoded data removed]",
      "text/plain": [
       "<Figure size 432x288 with 1 Axes>"
      ]
     },
     "metadata": {},
     "output_type": "display_data"
    }
   ],
   "source": [
    "plt.hist(permutation_scores, 20 , edgecolor = \"black\" , label = \"Permutation Scores\")\n",
    "ylim = plt.ylim()\n",
    "plt.plot(2 * [score], ylim, \"--g\", linewidth = 3, label = \"Classification Score\" )\n",
    "plt.xlabel(\"Score\")\n",
    "plt.legend()\n",
    "plt.ylim(ylim)"
   ]
  },
  {
   "cell_type": "markdown",
   "metadata": {},
   "source": [
    "# Naive_Bayes"
   ]
  },
  {
   "cell_type": "code",
   "execution_count": 287,
   "metadata": {},
   "outputs": [
    {
     "name": "stdout",
     "output_type": "stream",
     "text": [
      "Classification Score : 0.37257060572277967 \n",
      "p-value : 0.009900990099009901\n",
      "It took 49495.97866010666 seconds to do the permutation test\n"
     ]
    }
   ],
   "source": [
    "model_naive = GaussianNB()\n",
    "score, permutation_scores, pvalue = permutation_test_score(\n",
    "    model_naive, features, type_label, scoring=\"accuracy\", cv = cv, n_permutations = 100, n_jobs = 1)\n",
    "print(\"Classification Score : %s \\np-value : %s\" %(score,pvalue))\n",
    "print(\"It took %s seconds to do the permutation test\" %(time.time()-start))\n"
   ]
  },
  {
   "cell_type": "code",
   "execution_count": 288,
   "metadata": {},
   "outputs": [
    {
     "data": {
      "text/plain": [
       "(0.0, 11.55)"
      ]
     },
     "execution_count": 288,
     "metadata": {},
     "output_type": "execute_result"
    },
    {
     "data": {
      "image/png": "[encoded data removed]",
      "text/plain": [
       "<Figure size 432x288 with 1 Axes>"
      ]
     },
     "metadata": {},
     "output_type": "display_data"
    }
   ],
   "source": [
    "plt.hist(permutation_scores, 20 , edgecolor = \"black\" , label = \"Permutation Scores\")\n",
    "ylim = plt.ylim()\n",
    "plt.plot(2 * [score], ylim, \"--g\", linewidth = 3, label = \"Classification Score\" )\n",
    "plt.xlabel(\"Score\")  \n",
    "plt.legend()\n",
    "plt.ylim(ylim)"
   ]
  },
  {
   "cell_type": "markdown",
   "metadata": {},
   "source": [
    "# Decision Tree"
   ]
  },
  {
   "cell_type": "code",
   "execution_count": 290,
   "metadata": {},
   "outputs": [
    {
     "name": "stdout",
     "output_type": "stream",
     "text": [
      "Classification Score : 0.40924377554812336 \n",
      "p-value : 0.009900990099009901\n",
      "It took 54909.28474211693 seconds to do the permutation test\n"
     ]
    }
   ],
   "source": [
    "model_tree = tree.DecisionTreeClassifier()\n",
    "score, permutation_scores, pvalue = permutation_test_score(\n",
    "    model_tree, features, type_label, scoring=\"accuracy\", cv = cv, n_permutations = 100, n_jobs = 1)\n",
    "print(\"Classification Score : %s \\np-value : %s\" %(score,pvalue))\n",
    "print(\"It took %s seconds to do the permutation test\" %(time.time()-start))\n"
   ]
  },
  {
   "cell_type": "code",
   "execution_count": 291,
   "metadata": {},
   "outputs": [
    {
     "data": {
      "text/plain": [
       "(0.0, 21.0)"
      ]
     },
     "execution_count": 291,
     "metadata": {},
     "output_type": "execute_result"
    },
    {
     "data": {
      "image/png": "[encoded data removed]",
      "text/plain": [
       "<Figure size 432x288 with 1 Axes>"
      ]
     },
     "metadata": {},
     "output_type": "display_data"
    }
   ],
   "source": [
    "plt.hist(permutation_scores, 20 , edgecolor = \"black\" , label = \"Permutation Scores\")\n",
    "ylim = plt.ylim()\n",
    "plt.plot(2 * [score], ylim, \"--g\", linewidth = 3, label = \"Classification Score\" )\n",
    "plt.xlabel(\"Score\")\n",
    "plt.legend()\n",
    "plt.ylim(ylim)"
   ]
  },
  {
   "cell_type": "code",
   "execution_count": null,
   "metadata": {
    "collapsed": true
   },
   "outputs": [],
   "source": []
  }
 ],
 "metadata": {
  "kernelspec": {
   "display_name": "Python 3",
   "language": "python",
   "name": "python3"
  },
  "language_info": {
   "codemirror_mode": {
    "name": "ipython",
    "version": 3
   },
   "file_extension": ".py",
   "mimetype": "text/x-python",
   "name": "python",
   "nbconvert_exporter": "python",
   "pygments_lexer": "ipython3",
   "version": "3.6.5"
  }
 },
 "nbformat": 4,
 "nbformat_minor": 2
}
