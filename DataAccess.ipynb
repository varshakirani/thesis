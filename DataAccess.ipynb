{
 "cells": [
  {
   "cell_type": "markdown",
   "metadata": {},
   "source": [
    "# Installing and Importing packages for anallysis"
   ]
  },
  {
   "cell_type": "code",
   "execution_count": 1,
   "metadata": {
    "collapsed": true
   },
   "outputs": [],
   "source": [
    "#uncomment the lines to install particular packages in your notebook\n",
    "\n",
    "#!conda install numpy --yes\n",
    "#!conda install scipy --yes\n",
    "#!conda install scikit-learn --yes\n",
    "#!conda install matplotlib --yes\n",
    "#!conda install seaborn --yes"
   ]
  },
  {
   "cell_type": "code",
   "execution_count": 18,
   "metadata": {
    "collapsed": true
   },
   "outputs": [],
   "source": [
    "#Misc\n",
    "import scipy.io as sio\n",
    "import os #to access files from the directories\n",
    "import math\n",
    "import time #to check total time took for running the script or function\n",
    "\n",
    "#Visualization\n",
    "import matplotlib.pyplot as plt\n",
    "\n",
    "#Analysis\n",
    "import pandas as pd\n",
    "import numpy as np\n",
    "from sklearn import svm\n",
    "from sklearn.model_selection import cross_val_score\n",
    "from sklearn.model_selection import permutation_test_score\n",
    "from sklearn.model_selection import StratifiedKFold\n",
    "from sklearn.utils import shuffle\n",
    "from sklearn.naive_bayes import GaussianNB\n",
    "from sklearn import tree\n",
    "\n",
    "\n"
   ]
  },
  {
   "cell_type": "markdown",
   "metadata": {},
   "source": [
    "## Data extraction\n",
    "Reading only Faces mat files which doesnt end with 389.mat as I still do not know what it represents. Extracting means for each sample along with its label for all the brain areas. Not sure how to store the data, check with pandas **most probably pandas dataframe**"
   ]
  },
  {
   "cell_type": "code",
   "execution_count": 2,
   "metadata": {},
   "outputs": [
    {
     "ename": "NameError",
     "evalue": "name 'os' is not defined",
     "traceback": [
      "\u001b[0;31m---------------------------------------------------------------------------\u001b[0m",
      "\u001b[0;31mNameError\u001b[0m                                 Traceback (most recent call last)",
      "\u001b[0;32m<ipython-input-2-004530db8065>\u001b[0m in \u001b[0;36m<module>\u001b[0;34m()\u001b[0m\n\u001b[1;32m      3\u001b[0m \u001b[0;31m#df = pd.DataFrame({'A':1,'B':2}, index = None)\u001b[0m\u001b[0;34m\u001b[0m\u001b[0;34m\u001b[0m\u001b[0m\n\u001b[1;32m      4\u001b[0m \u001b[0mdata_list\u001b[0m \u001b[0;34m=\u001b[0m \u001b[0;34m[\u001b[0m\u001b[0;34m]\u001b[0m\u001b[0;34m\u001b[0m\u001b[0m\n\u001b[0;32m----> 5\u001b[0;31m \u001b[0;32mfor\u001b[0m \u001b[0mmatFile\u001b[0m \u001b[0;32min\u001b[0m \u001b[0mos\u001b[0m\u001b[0;34m.\u001b[0m\u001b[0mlistdir\u001b[0m\u001b[0;34m(\u001b[0m\u001b[0mdataFolder\u001b[0m\u001b[0;34m)\u001b[0m\u001b[0;34m:\u001b[0m\u001b[0;34m\u001b[0m\u001b[0m\n\u001b[0m\u001b[1;32m      6\u001b[0m     \u001b[0;32mif\u001b[0m \u001b[0mmatFile\u001b[0m\u001b[0;34m.\u001b[0m\u001b[0mstartswith\u001b[0m\u001b[0;34m(\u001b[0m\u001b[0;34m\"Faces\"\u001b[0m\u001b[0;34m)\u001b[0m \u001b[0;32mand\u001b[0m \u001b[0;32mnot\u001b[0m \u001b[0mmatFile\u001b[0m\u001b[0;34m.\u001b[0m\u001b[0mendswith\u001b[0m\u001b[0;34m(\u001b[0m\u001b[0;34m\"389.mat\"\u001b[0m\u001b[0;34m)\u001b[0m\u001b[0;34m:\u001b[0m\u001b[0;34m\u001b[0m\u001b[0m\n\u001b[1;32m      7\u001b[0m         \u001b[0mdata\u001b[0m \u001b[0;34m=\u001b[0m \u001b[0msio\u001b[0m\u001b[0;34m.\u001b[0m\u001b[0mloadmat\u001b[0m\u001b[0;34m(\u001b[0m\u001b[0mdataFolder\u001b[0m \u001b[0;34m+\u001b[0m \u001b[0mmatFile\u001b[0m\u001b[0;34m)\u001b[0m\u001b[0;34m\u001b[0m\u001b[0m\n",
      "\u001b[0;31mNameError\u001b[0m: name 'os' is not defined"
     ],
     "output_type": "error"
    }
   ],
   "source": [
    "dataFolder =  \"../Data/\"\n",
    "columns = [\"means\",\"label\"]\n",
    "#df = pd.DataFrame({'A':1,'B':2}, index = None)\n",
    "data_list = []\n",
    "for matFile in os.listdir(dataFolder):\n",
    "    if matFile.startswith(\"Faces\") and not matFile.endswith(\"389.mat\"):\n",
    "        data = sio.loadmat(dataFolder + matFile)\n",
    "        for i in range (len(data[\"means\"])):\n",
    "        #data_list.append(list(zip(data[\"means\"],data[\"label\"][0]))) # Check this how to do it\n",
    "            d = data[\"means\"][i],data[\"label\"][0][i]\n",
    "            data_list.append(d)\n",
    "        print(len(data[\"means\"]))\n",
    "df = pd.DataFrame(data_list, columns = columns)\n",
    "RoiNames = (data[\"RoiName\"][:,0])\n",
    "colRoi = []\n",
    "for roi in RoiNames:\n",
    "    colRoi.append(roi[0])\n",
    "df[colRoi] = pd.DataFrame(df.means.values.tolist(), index = df.index)\n",
    "df.drop(['means'], axis=1, inplace=True)\n",
    "\n"
   ]
  },
  {
   "cell_type": "code",
   "execution_count": 2,
   "metadata": {},
   "outputs": [],
   "source": [
    ""
   ]
  },
  {
   "cell_type": "code",
   "execution_count": 21,
   "metadata": {},
   "outputs": [
    {
     "data": {
      "text/html": [
       "<div>\n",
       "<style scoped>\n",
       "    .dataframe tbody tr th:only-of-type {\n",
       "        vertical-align: middle;\n",
       "    }\n",
       "\n",
       "    .dataframe tbody tr th {\n",
       "        vertical-align: top;\n",
       "    }\n",
       "\n",
       "    .dataframe thead th {\n",
       "        text-align: right;\n",
       "    }\n",
       "</style>\n",
       "<table border=\"1\" class=\"dataframe\">\n",
       "  <thead>\n",
       "    <tr style=\"text-align: right;\">\n",
       "      <th></th>\n",
       "      <th>label</th>\n",
       "      <th>Precentral_L</th>\n",
       "      <th>Precentral_R</th>\n",
       "      <th>Frontal_Sup_L</th>\n",
       "      <th>Frontal_Sup_R</th>\n",
       "      <th>Frontal_Sup_Orb_L</th>\n",
       "      <th>Frontal_Sup_Orb_R</th>\n",
       "      <th>Frontal_Mid_L</th>\n",
       "      <th>Frontal_Mid_R</th>\n",
       "      <th>Frontal_Mid_Orb_L</th>\n",
       "      <th>...</th>\n",
       "      <th>Cerebelum_10_L</th>\n",
       "      <th>Cerebelum_10_R</th>\n",
       "      <th>Vermis_1_2</th>\n",
       "      <th>Vermis_3</th>\n",
       "      <th>Vermis_4_5</th>\n",
       "      <th>Vermis_6</th>\n",
       "      <th>Vermis_7</th>\n",
       "      <th>Vermis_8</th>\n",
       "      <th>Vermis_9</th>\n",
       "      <th>Vermis_10</th>\n",
       "    </tr>\n",
       "  </thead>\n",
       "  <tbody>\n",
       "    <tr>\n",
       "      <th>0</th>\n",
       "      <td>1</td>\n",
       "      <td>-0.261413</td>\n",
       "      <td>-0.614965</td>\n",
       "      <td>-0.184144</td>\n",
       "      <td>-0.300383</td>\n",
       "      <td>0.553060</td>\n",
       "      <td>1.017965</td>\n",
       "      <td>-0.500928</td>\n",
       "      <td>-0.467032</td>\n",
       "      <td>-0.381950</td>\n",
       "      <td>...</td>\n",
       "      <td>-0.408351</td>\n",
       "      <td>-1.147118</td>\n",
       "      <td>-2.567101</td>\n",
       "      <td>-2.049433</td>\n",
       "      <td>-1.754564</td>\n",
       "      <td>-0.606973</td>\n",
       "      <td>-0.860277</td>\n",
       "      <td>-1.658649</td>\n",
       "      <td>0.168726</td>\n",
       "      <td>1.006011</td>\n",
       "    </tr>\n",
       "    <tr>\n",
       "      <th>1</th>\n",
       "      <td>1</td>\n",
       "      <td>-1.772200</td>\n",
       "      <td>-1.107698</td>\n",
       "      <td>-2.027145</td>\n",
       "      <td>-1.532820</td>\n",
       "      <td>-1.816469</td>\n",
       "      <td>-1.896132</td>\n",
       "      <td>-1.922224</td>\n",
       "      <td>-1.868986</td>\n",
       "      <td>-1.361453</td>\n",
       "      <td>...</td>\n",
       "      <td>-1.191585</td>\n",
       "      <td>-0.902862</td>\n",
       "      <td>-0.724082</td>\n",
       "      <td>-2.444238</td>\n",
       "      <td>-2.153109</td>\n",
       "      <td>-2.263649</td>\n",
       "      <td>-1.709332</td>\n",
       "      <td>-1.529465</td>\n",
       "      <td>0.164342</td>\n",
       "      <td>1.231301</td>\n",
       "    </tr>\n",
       "    <tr>\n",
       "      <th>2</th>\n",
       "      <td>1</td>\n",
       "      <td>0.254926</td>\n",
       "      <td>0.657548</td>\n",
       "      <td>-0.007574</td>\n",
       "      <td>0.143625</td>\n",
       "      <td>0.918835</td>\n",
       "      <td>0.996188</td>\n",
       "      <td>0.278585</td>\n",
       "      <td>0.280610</td>\n",
       "      <td>0.229048</td>\n",
       "      <td>...</td>\n",
       "      <td>0.883772</td>\n",
       "      <td>-0.184331</td>\n",
       "      <td>1.751579</td>\n",
       "      <td>-0.775282</td>\n",
       "      <td>0.687507</td>\n",
       "      <td>0.872222</td>\n",
       "      <td>0.658151</td>\n",
       "      <td>1.525205</td>\n",
       "      <td>-0.809088</td>\n",
       "      <td>-1.525038</td>\n",
       "    </tr>\n",
       "    <tr>\n",
       "      <th>3</th>\n",
       "      <td>1</td>\n",
       "      <td>-0.081679</td>\n",
       "      <td>-0.548619</td>\n",
       "      <td>-0.022460</td>\n",
       "      <td>-0.195238</td>\n",
       "      <td>-0.960115</td>\n",
       "      <td>-0.061683</td>\n",
       "      <td>-0.068000</td>\n",
       "      <td>-0.336466</td>\n",
       "      <td>-1.094314</td>\n",
       "      <td>...</td>\n",
       "      <td>-0.327843</td>\n",
       "      <td>-0.593949</td>\n",
       "      <td>-1.237898</td>\n",
       "      <td>-0.295273</td>\n",
       "      <td>-0.340851</td>\n",
       "      <td>-1.360729</td>\n",
       "      <td>-0.839502</td>\n",
       "      <td>-1.853460</td>\n",
       "      <td>-1.124791</td>\n",
       "      <td>-0.546470</td>\n",
       "    </tr>\n",
       "    <tr>\n",
       "      <th>4</th>\n",
       "      <td>1</td>\n",
       "      <td>0.810675</td>\n",
       "      <td>0.401977</td>\n",
       "      <td>0.553865</td>\n",
       "      <td>1.052446</td>\n",
       "      <td>0.947727</td>\n",
       "      <td>0.089213</td>\n",
       "      <td>0.934677</td>\n",
       "      <td>0.635166</td>\n",
       "      <td>1.384241</td>\n",
       "      <td>...</td>\n",
       "      <td>0.522811</td>\n",
       "      <td>0.434035</td>\n",
       "      <td>1.737797</td>\n",
       "      <td>-2.831582</td>\n",
       "      <td>-0.637470</td>\n",
       "      <td>0.195835</td>\n",
       "      <td>1.128861</td>\n",
       "      <td>1.374655</td>\n",
       "      <td>0.746394</td>\n",
       "      <td>-2.622827</td>\n",
       "    </tr>\n",
       "  </tbody>\n",
       "</table>\n",
       "<p>5 rows × 117 columns</p>\n",
       "</div>"
      ],
      "text/plain": [
       "   label  Precentral_L  Precentral_R  Frontal_Sup_L  Frontal_Sup_R  \\\n",
       "0      1     -0.261413     -0.614965      -0.184144      -0.300383   \n",
       "1      1     -1.772200     -1.107698      -2.027145      -1.532820   \n",
       "2      1      0.254926      0.657548      -0.007574       0.143625   \n",
       "3      1     -0.081679     -0.548619      -0.022460      -0.195238   \n",
       "4      1      0.810675      0.401977       0.553865       1.052446   \n",
       "\n",
       "   Frontal_Sup_Orb_L  Frontal_Sup_Orb_R  Frontal_Mid_L  Frontal_Mid_R  \\\n",
       "0           0.553060           1.017965      -0.500928      -0.467032   \n",
       "1          -1.816469          -1.896132      -1.922224      -1.868986   \n",
       "2           0.918835           0.996188       0.278585       0.280610   \n",
       "3          -0.960115          -0.061683      -0.068000      -0.336466   \n",
       "4           0.947727           0.089213       0.934677       0.635166   \n",
       "\n",
       "   Frontal_Mid_Orb_L    ...      Cerebelum_10_L  Cerebelum_10_R  Vermis_1_2  \\\n",
       "0          -0.381950    ...           -0.408351       -1.147118   -2.567101   \n",
       "1          -1.361453    ...           -1.191585       -0.902862   -0.724082   \n",
       "2           0.229048    ...            0.883772       -0.184331    1.751579   \n",
       "3          -1.094314    ...           -0.327843       -0.593949   -1.237898   \n",
       "4           1.384241    ...            0.522811        0.434035    1.737797   \n",
       "\n",
       "   Vermis_3  Vermis_4_5  Vermis_6  Vermis_7  Vermis_8  Vermis_9  Vermis_10  \n",
       "0 -2.049433   -1.754564 -0.606973 -0.860277 -1.658649  0.168726   1.006011  \n",
       "1 -2.444238   -2.153109 -2.263649 -1.709332 -1.529465  0.164342   1.231301  \n",
       "2 -0.775282    0.687507  0.872222  0.658151  1.525205 -0.809088  -1.525038  \n",
       "3 -0.295273   -0.340851 -1.360729 -0.839502 -1.853460 -1.124791  -0.546470  \n",
       "4 -2.831582   -0.637470  0.195835  1.128861  1.374655  0.746394  -2.622827  \n",
       "\n",
       "[5 rows x 117 columns]"
      ]
     },
     "execution_count": 21,
     "metadata": {},
     "output_type": "execute_result"
    }
   ],
   "source": [
    "df.head()"
   ]
  },
  {
   "cell_type": "markdown",
   "metadata": {},
   "source": [
    "## Training and Testing Data\n",
    "Shuffle the rows to avoid overfitting. Divide the the data into training and testing dataset (80% : 20%). Use training dataset for cross validation (5 or 10 folds)\n",
    "\n",
    "***Temporary fix for NaN is by replacing it by 0***"
   ]
  },
  {
   "cell_type": "code",
   "execution_count": 22,
   "metadata": {
    "collapsed": true
   },
   "outputs": [],
   "source": [
    "np.all(np.isfinite(df)) # to check if there is any infinite number\n",
    "np.any(np.isnan(df)) #to check if there is any nan\n",
    "\n",
    "np.where(np.asanyarray(np.isnan(df))) #to find the index of nan\n",
    "df = df.fillna(0) #replace nan with 0\n",
    "\n",
    "df = shuffle(df)\n",
    "\n",
    "split_index = math.floor(0.8 * len(df))\n",
    "train = df[:split_index]\n",
    "test = df[split_index:]"
   ]
  },
  {
   "cell_type": "markdown",
   "metadata": {},
   "source": [
    "# SVM model fitting\n",
    "Using SVM from sklearn, fit the model and the cross validation accuracy without feature engineering."
   ]
  },
  {
   "cell_type": "code",
   "execution_count": 23,
   "metadata": {},
   "outputs": [
    {
     "name": "stdout",
     "output_type": "stream",
     "text": [
      "Accuracy: 0.49 (+/- 0.03)\n"
     ]
    }
   ],
   "source": [
    "#Training or model fitting\n",
    "features = train.loc[:, train.columns != \"label\"].values\n",
    "type_label = np.asarray(train.label)\n",
    "model = svm.SVC(kernel = 'rbf', C = 4, gamma = 2**-5)\n",
    "model.fit(features,type_label)\n",
    "scores = cross_val_score(model, features, type_label, cv=5)\n",
    "print(\"Accuracy: %0.2f (+/- %0.2f)\" % (scores.mean(), scores.std() * 2))\n",
    "#print(features.shape)"
   ]
  },
  {
   "cell_type": "code",
   "execution_count": 24,
   "metadata": {},
   "outputs": [
    {
     "name": "stdout",
     "output_type": "stream",
     "text": [
      "Test Accuracy is 0.4594594594594595.\n"
     ]
    }
   ],
   "source": [
    "#Testing\n",
    "test_data = test.loc[:,test.columns != \"label\"].values\n",
    "test_actual_results = np.asarray(test.label).astype(float)\n",
    "test_prediction = model.predict(test_data)\n",
    "total_test_samples = test_data.shape[0]\n",
    "total_correct_predictions = np.count_nonzero(test_actual_results == test_prediction)\n",
    "print(\"Test Accuracy is {}.\".format(total_correct_predictions / total_test_samples))"
   ]
  },
  {
   "cell_type": "markdown",
   "metadata": {},
   "source": [
    "## Permutation Test\n",
    "For checking the significance of SVM classifier, non-parameteric permutation test is applied with 100 permuations. The below code will do permutation on the labels for 100 times. Scoring is **accuracy** and cv is **StratifiedKFold**.  "
   ]
  },
  {
   "cell_type": "markdown",
   "metadata": {},
   "source": [
    "# SVM"
   ]
  },
  {
   "cell_type": "code",
   "execution_count": 25,
   "metadata": {},
   "outputs": [
    {
     "name": "stdout",
     "output_type": "stream",
     "text": [
      "Classification Score : 0.48555838772174786 \n",
      "p-value : 0.009900990099009901\n",
      "It took 89.47065210342407 seconds to do the permutation test\n"
     ]
    }
   ],
   "source": [
    "start = time.time()\n",
    "model = svm.SVC(kernel = 'rbf', C = 4, gamma = 2**-5)\n",
    "cv = StratifiedKFold(5)\n",
    "score, permutation_scores, pvalue = permutation_test_score(\n",
    "    model, features, type_label, scoring=\"accuracy\", cv = cv, n_permutations = 100, n_jobs = 1)\n",
    "print(\"Classification Score : %s \\np-value : %s\" %(score,pvalue))\n",
    "print(\"It took %s seconds to do the permutation test\" %(time.time()-start))"
   ]
  },
  {
   "cell_type": "code",
   "execution_count": 26,
   "metadata": {},
   "outputs": [
    {
     "data": {
      "text/plain": [
       "(0.0, 17.85)"
      ]
     },
     "execution_count": 26,
     "metadata": {},
     "output_type": "execute_result"
    },
    {
     "data": {
      "image/png": "[encoded data removed]",
      "text/plain": [
       "<Figure size 432x288 with 1 Axes>"
      ]
     },
     "metadata": {},
     "output_type": "display_data"
    }
   ],
   "source": [
    "plt.hist(permutation_scores, 20 , edgecolor = \"black\" , label = \"Permutation Scores\")\n",
    "ylim = plt.ylim()\n",
    "plt.plot(2 * [score], ylim, \"--g\", linewidth = 3, label = \"Classification Score\" )\n",
    "plt.xlabel(\"Score\")\n",
    "plt.legend()\n",
    "plt.ylim(ylim)"
   ]
  },
  {
   "cell_type": "code",
   "execution_count": 28,
   "metadata": {},
   "outputs": [
    {
     "name": "stdout",
     "output_type": "stream",
     "text": [
      "<class 'numpy.ndarray'>\n"
     ]
    }
   ],
   "source": [
    "print(type(permutation_scores))"
   ]
  },
  {
   "cell_type": "markdown",
   "metadata": {},
   "source": [
    "# Naive_Bayes"
   ]
  },
  {
   "cell_type": "code",
   "execution_count": 29,
   "metadata": {},
   "outputs": [
    {
     "name": "stdout",
     "output_type": "stream",
     "text": [
      "Classification Score : 0.37257412338142604 \n",
      "p-value : 0.009900990099009901\n",
      "It took 91.253347158432 seconds to do the permutation test\n"
     ]
    }
   ],
   "source": [
    "model_naive = GaussianNB()\n",
    "score, permutation_scores, pvalue = permutation_test_score(\n",
    "    model_naive, features, type_label, scoring=\"accuracy\", cv = cv, n_permutations = 100, n_jobs = 1)\n",
    "print(\"Classification Score : %s \\np-value : %s\" %(score,pvalue))\n",
    "print(\"It took %s seconds to do the permutation test\" %(time.time()-start))\n"
   ]
  },
  {
   "cell_type": "code",
   "execution_count": 30,
   "metadata": {},
   "outputs": [
    {
     "data": {
      "text/plain": [
       "(0.0, 12.6)"
      ]
     },
     "execution_count": 30,
     "metadata": {},
     "output_type": "execute_result"
    },
    {
     "data": {
      "image/png": "[encoded data removed]",
      "text/plain": [
       "<Figure size 432x288 with 1 Axes>"
      ]
     },
     "metadata": {},
     "output_type": "display_data"
    }
   ],
   "source": [
    "plt.hist(permutation_scores, 20 , edgecolor = \"black\" , label = \"Permutation Scores\")\n",
    "ylim = plt.ylim()\n",
    "plt.plot(2 * [score], ylim, \"--g\", linewidth = 3, label = \"Classification Score\" )\n",
    "plt.xlabel(\"Score\")  \n",
    "plt.legend()\n",
    "plt.ylim(ylim)"
   ]
  },
  {
   "cell_type": "markdown",
   "metadata": {},
   "source": [
    "# Decision Tree"
   ]
  },
  {
   "cell_type": "code",
   "execution_count": 31,
   "metadata": {},
   "outputs": [
    {
     "name": "stdout",
     "output_type": "stream",
     "text": [
      "Classification Score : 0.4257192709968143 \n",
      "p-value : 0.009900990099009901\n",
      "It took 132.70760917663574 seconds to do the permutation test\n"
     ]
    }
   ],
   "source": [
    "model_tree = tree.DecisionTreeClassifier()\n",
    "score, permutation_scores, pvalue = permutation_test_score(\n",
    "    model_tree, features, type_label, scoring=\"accuracy\", cv = cv, n_permutations = 100, n_jobs = 1)\n",
    "print(\"Classification Score : %s \\np-value : %s\" %(score,pvalue))\n",
    "print(\"It took %s seconds to do the permutation test\" %(time.time()-start))\n"
   ]
  },
  {
   "cell_type": "code",
   "execution_count": 32,
   "metadata": {},
   "outputs": [
    {
     "data": {
      "text/plain": [
       "(0.0, 15.75)"
      ]
     },
     "execution_count": 32,
     "metadata": {},
     "output_type": "execute_result"
    },
    {
     "data": {
      "image/png": "[encoded data removed]",
      "text/plain": [
       "<Figure size 432x288 with 1 Axes>"
      ]
     },
     "metadata": {},
     "output_type": "display_data"
    }
   ],
   "source": [
    "plt.hist(permutation_scores, 20 , edgecolor = \"black\" , label = \"Permutation Scores\")\n",
    "ylim = plt.ylim()\n",
    "plt.plot(2 * [score], ylim, \"--g\", linewidth = 3, label = \"Classification Score\" )\n",
    "plt.xlabel(\"Score\")\n",
    "plt.legend()\n",
    "plt.ylim(ylim)"
   ]
  },
  {
   "cell_type": "code",
   "execution_count": null,
   "metadata": {
    "collapsed": true
   },
   "outputs": [],
   "source": []
  },
  {
   "cell_type": "code",
   "execution_count": null,
   "metadata": {
    "collapsed": true
   },
   "outputs": [],
   "source": []
  }
 ],
 "metadata": {
  "kernelspec": {
   "display_name": "Python 3",
   "language": "python",
   "name": "python3"
  },
  "language_info": {
   "codemirror_mode": {
    "name": "ipython",
    "version": 3
   },
   "file_extension": ".py",
   "mimetype": "text/x-python",
   "name": "python",
   "nbconvert_exporter": "python",
   "pygments_lexer": "ipython3",
   "version": "3.6.5"
  }
 },
 "nbformat": 4,
 "nbformat_minor": 2
}
