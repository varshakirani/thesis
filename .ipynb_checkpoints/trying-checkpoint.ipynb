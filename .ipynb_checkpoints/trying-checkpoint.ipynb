{
 "cells": [
  {
   "cell_type": "code",
   "execution_count": 1,
   "metadata": {
    "collapsed": true
   },
   "outputs": [],
   "source": [
    "#Misc\n",
    "import scipy.io as sio\n",
    "import os #to access files from the directories\n",
    "import math\n",
    "import time #to check total time took for running the script or function\n",
    "\n",
    "#Visualization\n",
    "import matplotlib.pyplot as plt\n",
    "\n",
    "#Analysis\n",
    "import pandas as pd\n",
    "import numpy as np\n",
    "from sklearn import svm\n",
    "from sklearn.model_selection import cross_val_score\n",
    "from sklearn.model_selection import permutation_test_score\n",
    "from sklearn.model_selection import StratifiedKFold\n",
    "from sklearn.utils import shuffle\n",
    "from sklearn.naive_bayes import GaussianNB\n",
    "from sklearn import tree\n"
   ]
  },
  {
   "cell_type": "code",
   "execution_count": 6,
   "metadata": {
    "collapsed": true
   },
   "outputs": [],
   "source": [
    "dataFolder =  \"imp/Data/\"\n",
    "columns = [\"means\",\"label\"]\n",
    "#df = pd.DataFrame({'A':1,'B':2}, index = None)\n",
    "data_list = []\n",
    "for matFile in os.listdir(dataFolder):\n",
    "    if matFile.startswith(\"Faces\") and not matFile.endswith(\"389.mat\"):\n",
    "        data = sio.loadmat(dataFolder + matFile)\n",
    "        for i in range (len(data[\"means\"])):\n",
    "        #data_list.append(list(zip(data[\"means\"],data[\"label\"][0]))) # Check this how to do it\n",
    "            d = data[\"means\"][i],data[\"label\"][0][i]\n",
    "            data_list.append(d)\n",
    "df = pd.DataFrame(data_list, columns = columns)\n",
    "RoiNames = (data[\"RoiName\"][:,0])\n",
    "colRoi = []\n",
    "for roi in RoiNames:\n",
    "    colRoi.append(roi[0])\n",
    "df[colRoi] = pd.DataFrame(df.means.values.tolist(), index = df.index)\n",
    "df.drop(['means'], axis=1, inplace=True)"
   ]
  },
  {
   "cell_type": "code",
   "execution_count": 20,
   "metadata": {
    "collapsed": true
   },
   "outputs": [],
   "source": [
    "#Extracting different labels entries\n",
    "df1 = df[df.label == 1]\n",
    "df2 = df[df.label == 2]\n",
    "df3 = df[df.label == 3]"
   ]
  },
  {
   "cell_type": "code",
   "execution_count": 24,
   "metadata": {},
   "outputs": [
    {
     "name": "stdout",
     "output_type": "stream",
     "text": [
      "351     2\n",
      "894     2\n",
      "41      1\n",
      "573     1\n",
      "562     1\n",
      "587     1\n",
      "5       1\n",
      "115     2\n",
      "814     1\n",
      "872     2\n",
      "136     2\n",
      "1045    1\n",
      "621     2\n",
      "13      1\n",
      "428     2\n",
      "934     2\n",
      "293     1\n",
      "643     2\n",
      "578     1\n",
      "1207    2\n",
      "813     1\n",
      "606     1\n",
      "891     2\n",
      "48      1\n",
      "925     2\n",
      "1047    1\n",
      "1069    1\n",
      "391     2\n",
      "1180    2\n",
      "789     1\n",
      "       ..\n",
      "427     2\n",
      "623     2\n",
      "1113    1\n",
      "836     1\n",
      "28      1\n",
      "1199    2\n",
      "382     2\n",
      "113     2\n",
      "874     2\n",
      "580     1\n",
      "160     2\n",
      "171     2\n",
      "943     2\n",
      "323     1\n",
      "1089    1\n",
      "354     2\n",
      "866     2\n",
      "42      1\n",
      "863     1\n",
      "640     2\n",
      "102     2\n",
      "633     2\n",
      "577     1\n",
      "1067    1\n",
      "151     2\n",
      "1071    1\n",
      "76      1\n",
      "890     2\n",
      "355     2\n",
      "279     1\n",
      "Name: label, Length: 870, dtype: int64\n"
     ]
    }
   ],
   "source": [
    "#Combining two pairs off all combination\n",
    "df12 = shuffle(df1.append(df2))\n",
    "df23 = shuffle(df2.append(df3))\n",
    "df31 = shuffle(df3.append(df1))\n",
    "\n",
    "print(df12.label)"
   ]
  },
  {
   "cell_type": "code",
   "execution_count": 1,
   "metadata": {},
   "outputs": [
    {
     "name": "stdout",
     "output_type": "stream",
     "text": [
      "Solving environment: done\n",
      "\n",
      "## Package Plan ##\n",
      "\n",
      "  environment location: /Users/varshakirani/anaconda2\n",
      "\n",
      "  added / updated specs: \n",
      "    - pysurfer\n",
      "\n",
      "\n",
      "The following packages will be downloaded:\n",
      "\n",
      "    package                    |            build\n",
      "    ---------------------------|-----------------\n",
      "    openssl-1.0.2o             |                0         3.3 MB  conda-forge\n",
      "    ca-certificates-2018.4.16  |                0         140 KB  conda-forge\n",
      "    certifi-2018.4.16          |           py27_0         142 KB  conda-forge\n",
      "    ------------------------------------------------------------\n",
      "                                           Total:         3.6 MB\n",
      "\n",
      "The following packages will be UPDATED:\n",
      "\n",
      "    ca-certificates: 2017.08.26-ha1e5d58_0      --> 2018.4.16-0      conda-forge\n",
      "    certifi:         2017.7.27.1-py27h482ffc0_0 --> 2018.4.16-py27_0 conda-forge\n",
      "    openssl:         1.0.2l-h57f3a61_2          --> 1.0.2o-0         conda-forge\n",
      "\n",
      "\n",
      "Downloading and Extracting Packages\n",
      "openssl-1.0.2o       |  3.3 MB | ####################################### | 100% \n",
      "ca-certificates-2018 |  140 KB | ####################################### | 100% \n",
      "certifi-2018.4.16    |  142 KB | ####################################### | 100% \n",
      "Preparing transaction: done\n",
      "Verifying transaction: done\n",
      "Executing transaction: done\n"
     ]
    }
   ],
   "source": [
    "!conda install -c conda-forge pysurfer --yes\n"
   ]
  },
  {
   "cell_type": "code",
   "execution_count": null,
   "metadata": {
    "collapsed": true
   },
   "outputs": [],
   "source": []
  }
 ],
 "metadata": {
  "kernelspec": {
   "display_name": "Python 2",
   "language": "python",
   "name": "python2"
  },
  "language_info": {
   "codemirror_mode": {
    "name": "ipython",
    "version": 2
   },
   "file_extension": ".py",
   "mimetype": "text/x-python",
   "name": "python",
   "nbconvert_exporter": "python",
   "pygments_lexer": "ipython2",
   "version": "2.7.11"
  }
 },
 "nbformat": 4,
 "nbformat_minor": 1
}
